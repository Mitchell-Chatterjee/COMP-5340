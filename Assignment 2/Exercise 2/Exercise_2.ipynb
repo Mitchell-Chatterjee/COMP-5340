{
 "cells": [
  {
   "cell_type": "code",
   "execution_count": 1,
   "metadata": {
    "collapsed": true
   },
   "outputs": [
    {
     "name": "stdout",
     "output_type": "stream",
     "text": [
      "torch.Size([60000, 28, 28])\n",
      "Done importing data.\n"
     ]
    }
   ],
   "source": [
    "# Loading datasets\n",
    "\n",
    "import torch\n",
    "import torchvision\n",
    "\n",
    "transform = torchvision.transforms.Compose(\n",
    "    [torchvision.transforms.ToTensor(),\n",
    "     torchvision.transforms.Normalize((0.1307,), (0.3081,))])\n",
    "\n",
    "trainset = torchvision.datasets.MNIST(root='./data', train=True,\n",
    "                                      download=True, transform=transform)\n",
    "train_loader = torch.utils.data.DataLoader(trainset, batch_size=25,\n",
    "                                           shuffle=True, num_workers=4)\n",
    "\n",
    "testset = torchvision.datasets.MNIST(root='./data', train=False,\n",
    "                                     download=True, transform=transform)\n",
    "test_loader = torch.utils.data.DataLoader(testset, batch_size=100,\n",
    "                                          shuffle=True, num_workers=4)\n",
    "\n",
    "print(trainset.data.size())\n",
    "print(\"Done importing data.\")"
   ]
  },
  {
   "cell_type": "code",
   "execution_count": 5,
   "outputs": [],
   "source": [
    "# Defining the models\n",
    "import torch.nn as nn\n",
    "import torch.nn.functional as F\n",
    "\n",
    "# Convolutional Neural Network (CNN)\n",
    "class ConvNet(nn.Module):\n",
    "    def __init__(self, dropout_coef):\n",
    "        super(ConvNet, self).__init__()\n",
    "        self.conv1 = nn.Conv2d(1, 16, 5, stride=1, padding=2)\n",
    "        self.pool = nn.MaxPool2d(kernel_size=2)\n",
    "        self.conv2 = nn.Conv2d(16, 32, 5, stride=1, padding=2)\n",
    "        self.fc1 = nn.Linear(32 * 7 * 7, 120)\n",
    "        self.fc2 = nn.Linear(120, 120)\n",
    "        self.fc3 = nn.Linear(120, 10)\n",
    "        self.dropout = nn.Dropout(dropout_coef)\n",
    "\n",
    "    def forward(self, x):\n",
    "        x = self.pool(F.relu(self.conv1(x)))\n",
    "        x = self.pool(F.relu(self.conv2(x)))\n",
    "        x = x.view(-1, 32 * 7 * 7)\n",
    "\n",
    "        # Apply dropout\n",
    "        x = self.dropout(x)\n",
    "        x = F.relu(self.fc1(x))\n",
    "\n",
    "        # Apply dropout\n",
    "        x = self.dropout(x)\n",
    "        x = F.relu(self.fc2(x))\n",
    "\n",
    "        # Apply dropout\n",
    "        x = self.dropout(x)\n",
    "        x = self.fc3(x)\n",
    "        return x\n",
    "\n",
    "# Multi-Layer Perceptron (MLP)\n",
    "class MLP(nn.Module):\n",
    "    def __init__(self, h_count):\n",
    "        super(MLP, self).__init__()\n",
    "        self.fc1 = nn.Linear(28 * 28 * 1, 120)\n",
    "        self.hiddenLayers = nn.ModuleList()\n",
    "        for _ in range(h_count):\n",
    "          self.hiddenLayers.append(nn.Linear(120, 120))\n",
    "        self.fcFinal = nn.Linear(120, 10)\n",
    "\n",
    "    def forward(self, x):\n",
    "        x = x.view(-1, 28 * 28 * 1)\n",
    "        x = F.relu(self.fc1(x))\n",
    "        for fc in self.hiddenLayers:\n",
    "          x = F.relu(fc(x))\n",
    "        x = self.fcFinal(x)\n",
    "        return x"
   ],
   "metadata": {
    "collapsed": false,
    "pycharm": {
     "name": "#%%\n"
    }
   }
  },
  {
   "cell_type": "code",
   "execution_count": 6,
   "outputs": [
    {
     "name": "stdout",
     "output_type": "stream",
     "text": [
      "cuda:0\n",
      "NVIDIA GeForce GTX 1650\n"
     ]
    }
   ],
   "source": [
    "# Moving the nets to a GPU\n",
    "netList=[ConvNet(dropout_coef=0), ConvNet(dropout_coef=0.5)]\n",
    "\n",
    "CUDA = torch.cuda.is_available()\n",
    "if CUDA:\n",
    "  for net in netList:\n",
    "    net.cuda()\n",
    "\n",
    "# Let's first define our device as the first visible cuda device if we have\n",
    "# CUDA available:\n",
    "device = torch.device(\"cuda:0\" if torch.cuda.is_available() else \"cpu\")\n",
    "\n",
    "# Assuming that we are on a CUDA machine, this should print a CUDA device:\n",
    "print(device)\n",
    "print(torch.cuda.get_device_name(0))"
   ],
   "metadata": {
    "collapsed": false,
    "pycharm": {
     "name": "#%%\n"
    }
   }
  },
  {
   "cell_type": "code",
   "execution_count": 7,
   "outputs": [
    {
     "name": "stdout",
     "output_type": "stream",
     "text": [
      "ConvNet(\n",
      "  (conv1): Conv2d(1, 16, kernel_size=(5, 5), stride=(1, 1), padding=(2, 2))\n",
      "  (pool): MaxPool2d(kernel_size=2, stride=2, padding=0, dilation=1, ceil_mode=False)\n",
      "  (conv2): Conv2d(16, 32, kernel_size=(5, 5), stride=(1, 1), padding=(2, 2))\n",
      "  (fc1): Linear(in_features=1568, out_features=120, bias=True)\n",
      "  (fc2): Linear(in_features=120, out_features=120, bias=True)\n",
      "  (fc3): Linear(in_features=120, out_features=10, bias=True)\n",
      "  (dropout): Dropout(p=0, inplace=False)\n",
      ")\n",
      "[epoch1, itr 2000] loss: 0.537\n",
      "Epoch=1 Test Accuracy=95.950\n",
      "[epoch2, itr 2000] loss: 0.097\n",
      "Epoch=2 Test Accuracy=98.010\n",
      "[epoch3, itr 2000] loss: 0.065\n",
      "Epoch=3 Test Accuracy=97.920\n",
      "[epoch4, itr 2000] loss: 0.050\n",
      "Epoch=4 Test Accuracy=98.770\n",
      "[epoch5, itr 2000] loss: 0.042\n",
      "Epoch=5 Test Accuracy=98.920\n",
      "[epoch6, itr 2000] loss: 0.034\n",
      "Epoch=6 Test Accuracy=98.830\n",
      "[epoch7, itr 2000] loss: 0.030\n",
      "Epoch=7 Test Accuracy=98.590\n",
      "[epoch8, itr 2000] loss: 0.025\n",
      "Epoch=8 Test Accuracy=99.020\n",
      "[epoch9, itr 2000] loss: 0.024\n",
      "Epoch=9 Test Accuracy=99.100\n",
      "[epoch10, itr 2000] loss: 0.021\n",
      "Epoch=10 Test Accuracy=99.190\n",
      "Finished Training\n",
      "ConvNet(\n",
      "  (conv1): Conv2d(1, 16, kernel_size=(5, 5), stride=(1, 1), padding=(2, 2))\n",
      "  (pool): MaxPool2d(kernel_size=2, stride=2, padding=0, dilation=1, ceil_mode=False)\n",
      "  (conv2): Conv2d(16, 32, kernel_size=(5, 5), stride=(1, 1), padding=(2, 2))\n",
      "  (fc1): Linear(in_features=1568, out_features=120, bias=True)\n",
      "  (fc2): Linear(in_features=120, out_features=120, bias=True)\n",
      "  (fc3): Linear(in_features=120, out_features=10, bias=True)\n",
      "  (dropout): Dropout(p=0.5, inplace=False)\n",
      ")\n",
      "[epoch1, itr 2000] loss: 0.988\n",
      "Epoch=1 Test Accuracy=91.160\n",
      "[epoch2, itr 2000] loss: 0.262\n",
      "Epoch=2 Test Accuracy=94.190\n",
      "[epoch3, itr 2000] loss: 0.189\n",
      "Epoch=3 Test Accuracy=95.450\n",
      "[epoch4, itr 2000] loss: 0.156\n",
      "Epoch=4 Test Accuracy=96.210\n",
      "[epoch5, itr 2000] loss: 0.138\n",
      "Epoch=5 Test Accuracy=96.540\n",
      "[epoch6, itr 2000] loss: 0.129\n",
      "Epoch=6 Test Accuracy=96.750\n",
      "[epoch7, itr 2000] loss: 0.116\n",
      "Epoch=7 Test Accuracy=97.030\n",
      "[epoch8, itr 2000] loss: 0.107\n",
      "Epoch=8 Test Accuracy=97.230\n",
      "[epoch9, itr 2000] loss: 0.100\n",
      "Epoch=9 Test Accuracy=97.590\n",
      "[epoch10, itr 2000] loss: 0.095\n",
      "Epoch=10 Test Accuracy=97.670\n",
      "Finished Training\n"
     ]
    }
   ],
   "source": [
    "import torch.optim as optim\n",
    "# Train and test the networks\n",
    "accuracy_per_model = []\n",
    "loss_per_model = []\n",
    "\n",
    "for net in netList:\n",
    "  print(net)\n",
    "  criterion = nn.CrossEntropyLoss()\n",
    "  optimizer = optim.SGD(net.parameters(), lr=0.001, momentum=0.9)\n",
    "  accuracy_values=[]\n",
    "  epoch_number=[]\n",
    "  for epoch in range(25):  # loop over the dataset multiple times. Here 10 means 10 epochs\n",
    "      running_loss = 0.0\n",
    "      for i, (inputs,labels) in enumerate(train_loader, 0):\n",
    "          # get the inputs; data is a list of [inputs, labels]\n",
    "          if CUDA:\n",
    "            inputs = inputs.cuda()\n",
    "            labels = labels.cuda()\n",
    "          else:\n",
    "            inputs = inputs.cpu()\n",
    "            labels = labels.cpu()\n",
    "\n",
    "          # zero the parameter gradients\n",
    "          optimizer.zero_grad()\n",
    "\n",
    "          # forward + backward + optimize\n",
    "          outputs = net(inputs)\n",
    "          loss = criterion(outputs, labels)\n",
    "          loss.backward()\n",
    "          optimizer.step()\n",
    "\n",
    "          # print statistics\n",
    "          running_loss += loss.item()\n",
    "          if i % 2000 == 1999:    # print every 2000 mini-batches\n",
    "              print('[epoch%d, itr%5d] loss: %.3f' %\n",
    "                    (epoch + 1, i + 1, running_loss / 2000))\n",
    "              running_loss = 0.0\n",
    "\n",
    "      correct = 0\n",
    "      total = 0\n",
    "      running_test_loss = 0.0\n",
    "      with torch.no_grad():\n",
    "          for images, labels in test_loader:\n",
    "              if CUDA:\n",
    "                images = images.cuda()\n",
    "                labels = labels.cuda()\n",
    "              else:\n",
    "                images = images.cpu()\n",
    "                labels =labels.cpu()\n",
    "\n",
    "              outputs = net(images)\n",
    "              test_loss = criterion(outputs, labels)\n",
    "              _, predicted = torch.max(outputs.data, 1)\n",
    "              total += labels.size(0)\n",
    "              if CUDA:\n",
    "                correct += (predicted.cpu()==labels.cpu()).sum().item()\n",
    "              else:\n",
    "                correct += (predicted==labels).sum().item()\n",
    "          TestAccuracy = 100 * correct / total;\n",
    "          epoch_number += [epoch+1]\n",
    "          accuracy_values += [TestAccuracy]\n",
    "          print('Epoch=%d Test Accuracy=%.3f' %\n",
    "                    (epoch + 1, TestAccuracy))\n",
    "\n",
    "  print('Finished Training')\n",
    "  accuracy_per_model.append(accuracy_values)\n"
   ],
   "metadata": {
    "collapsed": false,
    "pycharm": {
     "name": "#%%\n"
    }
   }
  },
  {
   "cell_type": "code",
   "execution_count": 8,
   "outputs": [
    {
     "data": {
      "text/plain": "<Figure size 432x288 with 1 Axes>",
      "image/png": "[encoded data removed]"
     },
     "metadata": {
      "needs_background": "light"
     },
     "output_type": "display_data"
    }
   ],
   "source": [
    "import matplotlib.pyplot as plt\n",
    "\n",
    "# Plot the data\n",
    "plt.plot(epoch_number, accuracy_per_model[0], label='CNN')\n",
    "plt.plot(epoch_number, accuracy_per_model[1], label='CNN_Dropout')\n",
    "\n",
    "# Add a legend\n",
    "plt.legend()\n",
    "\n",
    "# Add labels\n",
    "plt.xlabel(\"Epoch Number\")\n",
    "plt.ylabel(\"Test Accuracy\")\n",
    "\n",
    "# Show the plot\n",
    "plt.show()\n"
   ],
   "metadata": {
    "collapsed": false,
    "pycharm": {
     "name": "#%%\n"
    }
   }
  }
 ],
 "metadata": {
  "kernelspec": {
   "display_name": "Python 3",
   "language": "python",
   "name": "python3"
  },
  "language_info": {
   "codemirror_mode": {
    "name": "ipython",
    "version": 2
   },
   "file_extension": ".py",
   "mimetype": "text/x-python",
   "name": "python",
   "nbconvert_exporter": "python",
   "pygments_lexer": "ipython2",
   "version": "2.7.6"
  }
 },
 "nbformat": 4,
 "nbformat_minor": 0
}